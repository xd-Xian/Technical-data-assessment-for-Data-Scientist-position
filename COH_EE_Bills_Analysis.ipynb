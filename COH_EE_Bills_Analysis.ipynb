{
 "cells": [
  {
   "cell_type": "markdown",
   "metadata": {},
   "source": [
    "# Techinical Data Assessment"
   ]
  },
  {
   "cell_type": "markdown",
   "metadata": {},
   "source": [
    "This technical data assessment is based on the City of Houston electricity bill dataset. I converted the Excel sheet downloaded into a CSV file and all analysis in this notebook comes from the file. This notebook is coded with Python."
   ]
  },
  {
   "cell_type": "markdown",
   "metadata": {},
   "source": [
    "There are three parts in this notebook.\n",
    "* Part 1: overview of the dataset given.\n",
    "* Part 2: answering questions 1 & 2.\n",
    "* Part 3: exploring the dataset and giving other insights."
   ]
  },
  {
   "cell_type": "markdown",
   "metadata": {},
   "source": [
    "## 1. Overview of the City of Houston Electricity Bill Dataset"
   ]
  },
  {
   "cell_type": "code",
   "execution_count": 1,
   "metadata": {},
   "outputs": [],
   "source": [
    "import numpy as np\n",
    "import pandas as pd\n",
    "pd.set_option('display.max_columns', None)\n",
    "pd.set_option('display.max_rows', None)\n",
    "\n",
    "import matplotlib.pyplot as plt\n",
    "%matplotlib inline "
   ]
  },
  {
   "cell_type": "code",
   "execution_count": 2,
   "metadata": {},
   "outputs": [
    {
     "name": "stderr",
     "output_type": "stream",
     "text": [
      "/Users/MacBook/anaconda3/lib/python3.7/site-packages/IPython/core/interactiveshell.py:3057: DtypeWarning: Columns (0) have mixed types. Specify dtype option on import or set low_memory=False.\n",
      "  interactivity=interactivity, compiler=compiler, result=result)\n"
     ]
    },
    {
     "data": {
      "text/html": [
       "<div>\n",
       "<style scoped>\n",
       "    .dataframe tbody tr th:only-of-type {\n",
       "        vertical-align: middle;\n",
       "    }\n",
       "\n",
       "    .dataframe tbody tr th {\n",
       "        vertical-align: top;\n",
       "    }\n",
       "\n",
       "    .dataframe thead th {\n",
       "        text-align: right;\n",
       "    }\n",
       "</style>\n",
       "<table border=\"1\" class=\"dataframe\">\n",
       "  <thead>\n",
       "    <tr style=\"text-align: right;\">\n",
       "      <th></th>\n",
       "      <th>Reliant Contract No</th>\n",
       "      <th>Service Address</th>\n",
       "      <th>ESID</th>\n",
       "      <th>Business Area</th>\n",
       "      <th>Fund</th>\n",
       "      <th>Cost Center</th>\n",
       "      <th>Bill Type</th>\n",
       "      <th>Bill Date</th>\n",
       "      <th>Meter No</th>\n",
       "      <th>Meter Read</th>\n",
       "      <th>Read Date</th>\n",
       "      <th>Due Date</th>\n",
       "      <th>Base Cost ($)</th>\n",
       "      <th>Total T&amp;D Charges ($)</th>\n",
       "      <th>Current Due ($)</th>\n",
       "      <th>Index Charge ($)</th>\n",
       "      <th>Total Due ($)</th>\n",
       "      <th>Franchise Fee ($)</th>\n",
       "      <th>Voucher Date</th>\n",
       "      <th>Billed Demand (KVA)</th>\n",
       "      <th>kWh Usage</th>\n",
       "      <th>Nodal Cu Charge ($)</th>\n",
       "      <th>Adder Charge ($)</th>\n",
       "    </tr>\n",
       "  </thead>\n",
       "  <tbody>\n",
       "    <tr>\n",
       "      <th>0</th>\n",
       "      <td>20293</td>\n",
       "      <td>3300 SAN FELIPE</td>\n",
       "      <td>1008901006120966305100</td>\n",
       "      <td>2000</td>\n",
       "      <td>1000</td>\n",
       "      <td>2000050002</td>\n",
       "      <td>T</td>\n",
       "      <td>07/07/2016</td>\n",
       "      <td>I65891140</td>\n",
       "      <td>19,581</td>\n",
       "      <td>07/01/2016</td>\n",
       "      <td>08/06/2016</td>\n",
       "      <td>$11.13</td>\n",
       "      <td>$18.00</td>\n",
       "      <td>$31.02</td>\n",
       "      <td>$0.00</td>\n",
       "      <td>$31.02</td>\n",
       "      <td>-$0.59</td>\n",
       "      <td>07/21/2016</td>\n",
       "      <td>0</td>\n",
       "      <td>273</td>\n",
       "      <td>$1.25</td>\n",
       "      <td>$0.00</td>\n",
       "    </tr>\n",
       "    <tr>\n",
       "      <th>1</th>\n",
       "      <td>20293</td>\n",
       "      <td>3300 SAN FELIPE</td>\n",
       "      <td>1008901006120966305100</td>\n",
       "      <td>2000</td>\n",
       "      <td>1000</td>\n",
       "      <td>2000050002</td>\n",
       "      <td>T</td>\n",
       "      <td>08/08/2016</td>\n",
       "      <td>I65891140</td>\n",
       "      <td>19,885</td>\n",
       "      <td>08/02/2016</td>\n",
       "      <td>09/07/2016</td>\n",
       "      <td>$9.71</td>\n",
       "      <td>$18.98</td>\n",
       "      <td>$29.43</td>\n",
       "      <td>$0.00</td>\n",
       "      <td>$29.43</td>\n",
       "      <td>-$0.66</td>\n",
       "      <td>08/23/2016</td>\n",
       "      <td>0</td>\n",
       "      <td>304</td>\n",
       "      <td>$0.14</td>\n",
       "      <td>$0.00</td>\n",
       "    </tr>\n",
       "    <tr>\n",
       "      <th>2</th>\n",
       "      <td>20293</td>\n",
       "      <td>3300 SAN FELIPE</td>\n",
       "      <td>1008901006120966305100</td>\n",
       "      <td>2000</td>\n",
       "      <td>1000</td>\n",
       "      <td>2000050002</td>\n",
       "      <td>T</td>\n",
       "      <td>09/07/2016</td>\n",
       "      <td>I65891140</td>\n",
       "      <td>20,158</td>\n",
       "      <td>08/31/2016</td>\n",
       "      <td>10/07/2016</td>\n",
       "      <td>$8.67</td>\n",
       "      <td>$18.00</td>\n",
       "      <td>$27.43</td>\n",
       "      <td>$0.00</td>\n",
       "      <td>$27.43</td>\n",
       "      <td>-$0.59</td>\n",
       "      <td>09/22/2016</td>\n",
       "      <td>0</td>\n",
       "      <td>273</td>\n",
       "      <td>$0.20</td>\n",
       "      <td>$0.00</td>\n",
       "    </tr>\n",
       "    <tr>\n",
       "      <th>3</th>\n",
       "      <td>20293</td>\n",
       "      <td>3300 SAN FELIPE</td>\n",
       "      <td>1008901006120966305100</td>\n",
       "      <td>2000</td>\n",
       "      <td>1000</td>\n",
       "      <td>2000050002</td>\n",
       "      <td>T</td>\n",
       "      <td>10/05/2016</td>\n",
       "      <td>I65891140</td>\n",
       "      <td>20,440</td>\n",
       "      <td>09/30/2016</td>\n",
       "      <td>11/04/2016</td>\n",
       "      <td>$8.95</td>\n",
       "      <td>$18.60</td>\n",
       "      <td>$28.22</td>\n",
       "      <td>$0.00</td>\n",
       "      <td>$28.22</td>\n",
       "      <td>-$0.61</td>\n",
       "      <td>10/20/2016</td>\n",
       "      <td>0</td>\n",
       "      <td>282</td>\n",
       "      <td>$0.10</td>\n",
       "      <td>$0.00</td>\n",
       "    </tr>\n",
       "    <tr>\n",
       "      <th>4</th>\n",
       "      <td>20293</td>\n",
       "      <td>3300 SAN FELIPE</td>\n",
       "      <td>1008901006120966305100</td>\n",
       "      <td>2000</td>\n",
       "      <td>1000</td>\n",
       "      <td>2000050002</td>\n",
       "      <td>T</td>\n",
       "      <td>11/04/2016</td>\n",
       "      <td>I65891140</td>\n",
       "      <td>20,730</td>\n",
       "      <td>10/31/2016</td>\n",
       "      <td>12/04/2016</td>\n",
       "      <td>$9.20</td>\n",
       "      <td>$18.33</td>\n",
       "      <td>$28.21</td>\n",
       "      <td>$0.00</td>\n",
       "      <td>$28.21</td>\n",
       "      <td>-$0.63</td>\n",
       "      <td>11/18/2016</td>\n",
       "      <td>0</td>\n",
       "      <td>290</td>\n",
       "      <td>$0.11</td>\n",
       "      <td>$0.00</td>\n",
       "    </tr>\n",
       "  </tbody>\n",
       "</table>\n",
       "</div>"
      ],
      "text/plain": [
       "  Reliant Contract No Service Address                     ESID  Business Area  \\\n",
       "0               20293  3300 SAN FELIPE  1008901006120966305100           2000   \n",
       "1               20293  3300 SAN FELIPE  1008901006120966305100           2000   \n",
       "2               20293  3300 SAN FELIPE  1008901006120966305100           2000   \n",
       "3               20293  3300 SAN FELIPE  1008901006120966305100           2000   \n",
       "4               20293  3300 SAN FELIPE  1008901006120966305100           2000   \n",
       "\n",
       "   Fund  Cost Center Bill Type   Bill Date   Meter No Meter Read   Read Date  \\\n",
       "0  1000   2000050002         T  07/07/2016  I65891140     19,581  07/01/2016   \n",
       "1  1000   2000050002         T  08/08/2016  I65891140     19,885  08/02/2016   \n",
       "2  1000   2000050002         T  09/07/2016  I65891140     20,158  08/31/2016   \n",
       "3  1000   2000050002         T  10/05/2016  I65891140     20,440  09/30/2016   \n",
       "4  1000   2000050002         T  11/04/2016  I65891140     20,730  10/31/2016   \n",
       "\n",
       "     Due Date Base Cost ($) Total T&D Charges ($) Current Due ($)  \\\n",
       "0  08/06/2016        $11.13                $18.00          $31.02   \n",
       "1  09/07/2016         $9.71                $18.98          $29.43   \n",
       "2  10/07/2016         $8.67                $18.00          $27.43   \n",
       "3  11/04/2016         $8.95                $18.60          $28.22   \n",
       "4  12/04/2016         $9.20                $18.33          $28.21   \n",
       "\n",
       "  Index Charge ($) Total Due ($) Franchise Fee ($) Voucher Date  \\\n",
       "0            $0.00        $31.02            -$0.59   07/21/2016   \n",
       "1            $0.00        $29.43            -$0.66   08/23/2016   \n",
       "2            $0.00        $27.43            -$0.59   09/22/2016   \n",
       "3            $0.00        $28.22            -$0.61   10/20/2016   \n",
       "4            $0.00        $28.21            -$0.63   11/18/2016   \n",
       "\n",
       "  Billed Demand (KVA) kWh Usage Nodal Cu Charge ($) Adder Charge ($)  \n",
       "0                   0       273               $1.25            $0.00  \n",
       "1                   0       304               $0.14            $0.00  \n",
       "2                   0       273               $0.20            $0.00  \n",
       "3                   0       282               $0.10            $0.00  \n",
       "4                   0       290               $0.11            $0.00  "
      ]
     },
     "execution_count": 2,
     "metadata": {},
     "output_type": "execute_result"
    }
   ],
   "source": [
    "bills = pd.read_csv('COH+EE+Bills+July+2016+-June+2017.csv')\n",
    "bills.head()"
   ]
  },
  {
   "cell_type": "code",
   "execution_count": 3,
   "metadata": {},
   "outputs": [
    {
     "data": {
      "text/plain": [
       "(67620, 23)"
      ]
     },
     "execution_count": 3,
     "metadata": {},
     "output_type": "execute_result"
    }
   ],
   "source": [
    "bills.shape"
   ]
  },
  {
   "cell_type": "code",
   "execution_count": 4,
   "metadata": {},
   "outputs": [
    {
     "name": "stdout",
     "output_type": "stream",
     "text": [
      "There are 67620 lines and 23 columns in this dataset.\n"
     ]
    }
   ],
   "source": [
    "print ('There are %d lines and %d columns in this dataset.'%(bills.shape[0], bills.shape[1]))"
   ]
  },
  {
   "cell_type": "code",
   "execution_count": 5,
   "metadata": {},
   "outputs": [
    {
     "data": {
      "text/plain": [
       "Index(['Reliant Contract No', 'Service Address', 'ESID', 'Business Area',\n",
       "       'Fund', 'Cost Center', 'Bill Type', 'Bill Date', 'Meter No',\n",
       "       'Meter Read', 'Read Date', 'Due Date', 'Base Cost ($)',\n",
       "       'Total T&D Charges ($)', 'Current Due ($)', 'Index Charge ($)',\n",
       "       'Total Due ($)', 'Franchise Fee ($)', 'Voucher Date',\n",
       "       'Billed Demand (KVA)', 'kWh Usage', 'Nodal Cu Charge ($)',\n",
       "       'Adder Charge ($)'],\n",
       "      dtype='object')"
      ]
     },
     "execution_count": 5,
     "metadata": {},
     "output_type": "execute_result"
    }
   ],
   "source": [
    "# trim column names\n",
    "columns = bills.columns\n",
    "bills.columns = columns.str.strip()\n",
    "bills.columns"
   ]
  },
  {
   "cell_type": "code",
   "execution_count": 6,
   "metadata": {},
   "outputs": [
    {
     "data": {
      "text/plain": [
       "Reliant Contract No      object\n",
       "Service Address          object\n",
       "ESID                     object\n",
       "Business Area             int64\n",
       "Fund                      int64\n",
       "Cost Center               int64\n",
       "Bill Type                object\n",
       "Bill Date                object\n",
       "Meter No                 object\n",
       "Meter Read               object\n",
       "Read Date                object\n",
       "Due Date                 object\n",
       "Base Cost ($)            object\n",
       "Total T&D Charges ($)    object\n",
       "Current Due ($)          object\n",
       "Index Charge ($)         object\n",
       "Total Due ($)            object\n",
       "Franchise Fee ($)        object\n",
       "Voucher Date             object\n",
       "Billed Demand (KVA)      object\n",
       "kWh Usage                object\n",
       "Nodal Cu Charge ($)      object\n",
       "Adder Charge ($)         object\n",
       "dtype: object"
      ]
     },
     "execution_count": 6,
     "metadata": {},
     "output_type": "execute_result"
    }
   ],
   "source": [
    "bills.dtypes"
   ]
  },
  {
   "cell_type": "markdown",
   "metadata": {},
   "source": [
    "## 2. Answer Questions 1 & 2"
   ]
  },
  {
   "cell_type": "markdown",
   "metadata": {},
   "source": [
    "#### Question 1: How many sites (Service Address) does the City of Houston manage?"
   ]
  },
  {
   "cell_type": "code",
   "execution_count": 7,
   "metadata": {},
   "outputs": [
    {
     "name": "stdout",
     "output_type": "stream",
     "text": [
      "There are 5611 sites.\n"
     ]
    }
   ],
   "source": [
    "sites = bills['Service Address'].nunique()\n",
    "print ('There are {} sites.'.format(sites))"
   ]
  },
  {
   "cell_type": "markdown",
   "metadata": {},
   "source": [
    "Convert date columns to date type"
   ]
  },
  {
   "cell_type": "code",
   "execution_count": 8,
   "metadata": {},
   "outputs": [],
   "source": [
    "date_columns = ['Bill Date', 'Read Date', 'Due Date']\n",
    "for c in date_columns:\n",
    "    bills[c] = pd.to_datetime(bills[c], format='%m/%d/%Y')"
   ]
  },
  {
   "cell_type": "markdown",
   "metadata": {},
   "source": [
    "Convert money related columns to float"
   ]
  },
  {
   "cell_type": "code",
   "execution_count": 9,
   "metadata": {},
   "outputs": [],
   "source": [
    "fee_columns = ['Base Cost ($)', 'Total T&D Charges ($)', 'Current Due ($)', 'Index Charge ($)', \n",
    "               'Total Due ($)', 'Franchise Fee ($)', 'Nodal Cu Charge ($)', 'Adder Charge ($)']\n",
    "for c in fee_columns:\n",
    "    bills[c] = bills[c].str.replace('$', '').str.replace(',', '')\n",
    "    bills[c] = bills[c].astype(float)"
   ]
  },
  {
   "cell_type": "markdown",
   "metadata": {},
   "source": [
    "Convert other number columns to float"
   ]
  },
  {
   "cell_type": "code",
   "execution_count": 10,
   "metadata": {},
   "outputs": [],
   "source": [
    "num_columns = ['Meter Read', 'Billed Demand (KVA)', 'kWh Usage']\n",
    "for c in num_columns:\n",
    "    bills[c] = bills[c].str.replace(',', '')\n",
    "    bills[c] = bills[c].astype(int)"
   ]
  },
  {
   "cell_type": "code",
   "execution_count": 11,
   "metadata": {},
   "outputs": [
    {
     "data": {
      "text/plain": [
       "Reliant Contract No              object\n",
       "Service Address                  object\n",
       "ESID                             object\n",
       "Business Area                     int64\n",
       "Fund                              int64\n",
       "Cost Center                       int64\n",
       "Bill Type                        object\n",
       "Bill Date                datetime64[ns]\n",
       "Meter No                         object\n",
       "Meter Read                        int64\n",
       "Read Date                datetime64[ns]\n",
       "Due Date                 datetime64[ns]\n",
       "Base Cost ($)                   float64\n",
       "Total T&D Charges ($)           float64\n",
       "Current Due ($)                 float64\n",
       "Index Charge ($)                float64\n",
       "Total Due ($)                   float64\n",
       "Franchise Fee ($)               float64\n",
       "Voucher Date                     object\n",
       "Billed Demand (KVA)               int64\n",
       "kWh Usage                         int64\n",
       "Nodal Cu Charge ($)             float64\n",
       "Adder Charge ($)                float64\n",
       "dtype: object"
      ]
     },
     "execution_count": 11,
     "metadata": {},
     "output_type": "execute_result"
    }
   ],
   "source": [
    "bills.dtypes"
   ]
  },
  {
   "cell_type": "markdown",
   "metadata": {},
   "source": [
    "#### Question 2: What is the median kWh usage and cost by site in this dataset?"
   ]
  },
  {
   "cell_type": "code",
   "execution_count": 12,
   "metadata": {},
   "outputs": [
    {
     "data": {
      "text/html": [
       "<div>\n",
       "<style scoped>\n",
       "    .dataframe tbody tr th:only-of-type {\n",
       "        vertical-align: middle;\n",
       "    }\n",
       "\n",
       "    .dataframe tbody tr th {\n",
       "        vertical-align: top;\n",
       "    }\n",
       "\n",
       "    .dataframe thead th {\n",
       "        text-align: right;\n",
       "    }\n",
       "</style>\n",
       "<table border=\"1\" class=\"dataframe\">\n",
       "  <thead>\n",
       "    <tr style=\"text-align: right;\">\n",
       "      <th></th>\n",
       "      <th>Service Address</th>\n",
       "      <th>kWh Usage</th>\n",
       "      <th>Total Due ($)</th>\n",
       "    </tr>\n",
       "  </thead>\n",
       "  <tbody>\n",
       "    <tr>\n",
       "      <th>0</th>\n",
       "      <td>3300 SAN FELIPE</td>\n",
       "      <td>273</td>\n",
       "      <td>31.02</td>\n",
       "    </tr>\n",
       "    <tr>\n",
       "      <th>1</th>\n",
       "      <td>3300 SAN FELIPE</td>\n",
       "      <td>304</td>\n",
       "      <td>29.43</td>\n",
       "    </tr>\n",
       "    <tr>\n",
       "      <th>2</th>\n",
       "      <td>3300 SAN FELIPE</td>\n",
       "      <td>273</td>\n",
       "      <td>27.43</td>\n",
       "    </tr>\n",
       "    <tr>\n",
       "      <th>3</th>\n",
       "      <td>3300 SAN FELIPE</td>\n",
       "      <td>282</td>\n",
       "      <td>28.22</td>\n",
       "    </tr>\n",
       "    <tr>\n",
       "      <th>4</th>\n",
       "      <td>3300 SAN FELIPE</td>\n",
       "      <td>290</td>\n",
       "      <td>28.21</td>\n",
       "    </tr>\n",
       "    <tr>\n",
       "      <th>5</th>\n",
       "      <td>3300 SAN FELIPE</td>\n",
       "      <td>291</td>\n",
       "      <td>27.89</td>\n",
       "    </tr>\n",
       "    <tr>\n",
       "      <th>6</th>\n",
       "      <td>3300 SAN FELIPE</td>\n",
       "      <td>321</td>\n",
       "      <td>29.55</td>\n",
       "    </tr>\n",
       "    <tr>\n",
       "      <th>7</th>\n",
       "      <td>3300 SAN FELIPE</td>\n",
       "      <td>276</td>\n",
       "      <td>26.56</td>\n",
       "    </tr>\n",
       "    <tr>\n",
       "      <th>8</th>\n",
       "      <td>3300 SAN FELIPE</td>\n",
       "      <td>272</td>\n",
       "      <td>21.46</td>\n",
       "    </tr>\n",
       "    <tr>\n",
       "      <th>9</th>\n",
       "      <td>3300 SAN FELIPE</td>\n",
       "      <td>287</td>\n",
       "      <td>22.44</td>\n",
       "    </tr>\n",
       "    <tr>\n",
       "      <th>10</th>\n",
       "      <td>3300 SAN FELIPE</td>\n",
       "      <td>276</td>\n",
       "      <td>21.82</td>\n",
       "    </tr>\n",
       "    <tr>\n",
       "      <th>11</th>\n",
       "      <td>3300 SAN FELIPE</td>\n",
       "      <td>277</td>\n",
       "      <td>21.92</td>\n",
       "    </tr>\n",
       "    <tr>\n",
       "      <th>12</th>\n",
       "      <td>3802 DUNLAVY</td>\n",
       "      <td>508</td>\n",
       "      <td>49.62</td>\n",
       "    </tr>\n",
       "    <tr>\n",
       "      <th>13</th>\n",
       "      <td>3802 DUNLAVY</td>\n",
       "      <td>557</td>\n",
       "      <td>46.16</td>\n",
       "    </tr>\n",
       "    <tr>\n",
       "      <th>14</th>\n",
       "      <td>3802 DUNLAVY</td>\n",
       "      <td>502</td>\n",
       "      <td>42.55</td>\n",
       "    </tr>\n",
       "  </tbody>\n",
       "</table>\n",
       "</div>"
      ],
      "text/plain": [
       "    Service Address  kWh Usage  Total Due ($)\n",
       "0   3300 SAN FELIPE        273          31.02\n",
       "1   3300 SAN FELIPE        304          29.43\n",
       "2   3300 SAN FELIPE        273          27.43\n",
       "3   3300 SAN FELIPE        282          28.22\n",
       "4   3300 SAN FELIPE        290          28.21\n",
       "5   3300 SAN FELIPE        291          27.89\n",
       "6   3300 SAN FELIPE        321          29.55\n",
       "7   3300 SAN FELIPE        276          26.56\n",
       "8   3300 SAN FELIPE        272          21.46\n",
       "9   3300 SAN FELIPE        287          22.44\n",
       "10  3300 SAN FELIPE        276          21.82\n",
       "11  3300 SAN FELIPE        277          21.92\n",
       "12     3802 DUNLAVY        508          49.62\n",
       "13     3802 DUNLAVY        557          46.16\n",
       "14     3802 DUNLAVY        502          42.55"
      ]
     },
     "execution_count": 12,
     "metadata": {},
     "output_type": "execute_result"
    }
   ],
   "source": [
    "kWh = bills[['Service Address', 'kWh Usage', 'Total Due ($)']]\n",
    "kWh.head(15)"
   ]
  },
  {
   "cell_type": "code",
   "execution_count": 13,
   "metadata": {},
   "outputs": [
    {
     "data": {
      "text/html": [
       "<div>\n",
       "<style scoped>\n",
       "    .dataframe tbody tr th:only-of-type {\n",
       "        vertical-align: middle;\n",
       "    }\n",
       "\n",
       "    .dataframe tbody tr th {\n",
       "        vertical-align: top;\n",
       "    }\n",
       "\n",
       "    .dataframe thead th {\n",
       "        text-align: right;\n",
       "    }\n",
       "</style>\n",
       "<table border=\"1\" class=\"dataframe\">\n",
       "  <thead>\n",
       "    <tr style=\"text-align: right;\">\n",
       "      <th></th>\n",
       "      <th>Service Address</th>\n",
       "      <th>kWh Usage</th>\n",
       "      <th>Total Due ($)</th>\n",
       "    </tr>\n",
       "  </thead>\n",
       "  <tbody>\n",
       "    <tr>\n",
       "      <th>0</th>\n",
       "      <td>1 STREET LIGHT WAY (VARIOUS)</td>\n",
       "      <td>29998</td>\n",
       "      <td>7136.61</td>\n",
       "    </tr>\n",
       "    <tr>\n",
       "      <th>1</th>\n",
       "      <td>100 1/2 A E 14TH ST</td>\n",
       "      <td>2206</td>\n",
       "      <td>245.28</td>\n",
       "    </tr>\n",
       "    <tr>\n",
       "      <th>2</th>\n",
       "      <td>100 1/2 DEERFIELD ST</td>\n",
       "      <td>8400</td>\n",
       "      <td>630.04</td>\n",
       "    </tr>\n",
       "    <tr>\n",
       "      <th>3</th>\n",
       "      <td>100 1/2 E 4TH STREET</td>\n",
       "      <td>147</td>\n",
       "      <td>111.97</td>\n",
       "    </tr>\n",
       "    <tr>\n",
       "      <th>4</th>\n",
       "      <td>100 1/5 E 3RD ST</td>\n",
       "      <td>11</td>\n",
       "      <td>18.58</td>\n",
       "    </tr>\n",
       "  </tbody>\n",
       "</table>\n",
       "</div>"
      ],
      "text/plain": [
       "                Service Address  kWh Usage  Total Due ($)\n",
       "0  1 STREET LIGHT WAY (VARIOUS)      29998        7136.61\n",
       "1           100 1/2 A E 14TH ST       2206         245.28\n",
       "2          100 1/2 DEERFIELD ST       8400         630.04\n",
       "3          100 1/2 E 4TH STREET        147         111.97\n",
       "4              100 1/5 E 3RD ST         11          18.58"
      ]
     },
     "execution_count": 13,
     "metadata": {},
     "output_type": "execute_result"
    }
   ],
   "source": [
    "kWh_groupby_site = kWh.groupby(['Service Address'], as_index=False).sum()\n",
    "kWh_groupby_site.head()"
   ]
  },
  {
   "cell_type": "code",
   "execution_count": 14,
   "metadata": {},
   "outputs": [
    {
     "name": "stdout",
     "output_type": "stream",
     "text": [
      "The median kWh usage is: 2872.\n",
      "The median kWh cost is: $283.54.\n"
     ]
    }
   ],
   "source": [
    "usage_median, due_median = kWh_groupby_site.median()\n",
    "print ('The median kWh usage is: %d.'%(usage_median))\n",
    "print ('The median kWh cost is: $%.2f.'%(due_median))"
   ]
  },
  {
   "cell_type": "markdown",
   "metadata": {},
   "source": [
    "## 3. Explore dataset & Other Insights"
   ]
  },
  {
   "cell_type": "markdown",
   "metadata": {},
   "source": [
    "### 3.1 kWh usage and cost by site"
   ]
  },
  {
   "cell_type": "markdown",
   "metadata": {},
   "source": [
    "#### Top 10 sites of kWh usage "
   ]
  },
  {
   "cell_type": "code",
   "execution_count": 15,
   "metadata": {},
   "outputs": [
    {
     "data": {
      "text/html": [
       "<div>\n",
       "<style scoped>\n",
       "    .dataframe tbody tr th:only-of-type {\n",
       "        vertical-align: middle;\n",
       "    }\n",
       "\n",
       "    .dataframe tbody tr th {\n",
       "        vertical-align: top;\n",
       "    }\n",
       "\n",
       "    .dataframe thead th {\n",
       "        text-align: right;\n",
       "    }\n",
       "</style>\n",
       "<table border=\"1\" class=\"dataframe\">\n",
       "  <thead>\n",
       "    <tr style=\"text-align: right;\">\n",
       "      <th></th>\n",
       "      <th>Service Address</th>\n",
       "      <th>kWh Usage</th>\n",
       "      <th>Total Due ($)</th>\n",
       "    </tr>\n",
       "  </thead>\n",
       "  <tbody>\n",
       "    <tr>\n",
       "      <th>2153</th>\n",
       "      <td>2500 FEDERAL RD</td>\n",
       "      <td>121636497</td>\n",
       "      <td>4358286.05</td>\n",
       "    </tr>\n",
       "    <tr>\n",
       "      <th>2152</th>\n",
       "      <td>2500 69TH ST</td>\n",
       "      <td>113451767</td>\n",
       "      <td>4053100.70</td>\n",
       "    </tr>\n",
       "    <tr>\n",
       "      <th>5610</th>\n",
       "      <td>VARIOUS</td>\n",
       "      <td>79449482</td>\n",
       "      <td>23332024.48</td>\n",
       "    </tr>\n",
       "    <tr>\n",
       "      <th>4773</th>\n",
       "      <td>7800 AIRPORT</td>\n",
       "      <td>54467415</td>\n",
       "      <td>2226242.13</td>\n",
       "    </tr>\n",
       "    <tr>\n",
       "      <th>2449</th>\n",
       "      <td>3100 GENOA RED BLUFF RD</td>\n",
       "      <td>53059362</td>\n",
       "      <td>1891089.78</td>\n",
       "    </tr>\n",
       "    <tr>\n",
       "      <th>1676</th>\n",
       "      <td>18401 JOHN F KENNEDY BLVD</td>\n",
       "      <td>39907440</td>\n",
       "      <td>1720608.61</td>\n",
       "    </tr>\n",
       "    <tr>\n",
       "      <th>858</th>\n",
       "      <td>12550 WATER WORKS WAY</td>\n",
       "      <td>36923689</td>\n",
       "      <td>1312911.46</td>\n",
       "    </tr>\n",
       "    <tr>\n",
       "      <th>3201</th>\n",
       "      <td>4501 BEECHNUT #C</td>\n",
       "      <td>35489503</td>\n",
       "      <td>1574459.10</td>\n",
       "    </tr>\n",
       "    <tr>\n",
       "      <th>2402</th>\n",
       "      <td>3005 GALVESTON</td>\n",
       "      <td>28060510</td>\n",
       "      <td>994189.92</td>\n",
       "    </tr>\n",
       "    <tr>\n",
       "      <th>794</th>\n",
       "      <td>12321 1/2 ALMEDA</td>\n",
       "      <td>26040411</td>\n",
       "      <td>1166166.64</td>\n",
       "    </tr>\n",
       "  </tbody>\n",
       "</table>\n",
       "</div>"
      ],
      "text/plain": [
       "                Service Address  kWh Usage  Total Due ($)\n",
       "2153            2500 FEDERAL RD  121636497     4358286.05\n",
       "2152               2500 69TH ST  113451767     4053100.70\n",
       "5610                    VARIOUS   79449482    23332024.48\n",
       "4773               7800 AIRPORT   54467415     2226242.13\n",
       "2449    3100 GENOA RED BLUFF RD   53059362     1891089.78\n",
       "1676  18401 JOHN F KENNEDY BLVD   39907440     1720608.61\n",
       "858       12550 WATER WORKS WAY   36923689     1312911.46\n",
       "3201           4501 BEECHNUT #C   35489503     1574459.10\n",
       "2402             3005 GALVESTON   28060510      994189.92\n",
       "794            12321 1/2 ALMEDA   26040411     1166166.64"
      ]
     },
     "execution_count": 15,
     "metadata": {},
     "output_type": "execute_result"
    }
   ],
   "source": [
    "kWh_groupby_site.sort_values(by=['kWh Usage'],ascending=False).head(10)"
   ]
  },
  {
   "cell_type": "markdown",
   "metadata": {},
   "source": [
    "#### Top 10 sites of kWh cost"
   ]
  },
  {
   "cell_type": "code",
   "execution_count": 16,
   "metadata": {},
   "outputs": [
    {
     "data": {
      "text/html": [
       "<div>\n",
       "<style scoped>\n",
       "    .dataframe tbody tr th:only-of-type {\n",
       "        vertical-align: middle;\n",
       "    }\n",
       "\n",
       "    .dataframe tbody tr th {\n",
       "        vertical-align: top;\n",
       "    }\n",
       "\n",
       "    .dataframe thead th {\n",
       "        text-align: right;\n",
       "    }\n",
       "</style>\n",
       "<table border=\"1\" class=\"dataframe\">\n",
       "  <thead>\n",
       "    <tr style=\"text-align: right;\">\n",
       "      <th></th>\n",
       "      <th>Service Address</th>\n",
       "      <th>kWh Usage</th>\n",
       "      <th>Total Due ($)</th>\n",
       "    </tr>\n",
       "  </thead>\n",
       "  <tbody>\n",
       "    <tr>\n",
       "      <th>5610</th>\n",
       "      <td>VARIOUS</td>\n",
       "      <td>79449482</td>\n",
       "      <td>23332024.48</td>\n",
       "    </tr>\n",
       "    <tr>\n",
       "      <th>2153</th>\n",
       "      <td>2500 FEDERAL RD</td>\n",
       "      <td>121636497</td>\n",
       "      <td>4358286.05</td>\n",
       "    </tr>\n",
       "    <tr>\n",
       "      <th>2152</th>\n",
       "      <td>2500 69TH ST</td>\n",
       "      <td>113451767</td>\n",
       "      <td>4053100.70</td>\n",
       "    </tr>\n",
       "    <tr>\n",
       "      <th>4773</th>\n",
       "      <td>7800 AIRPORT</td>\n",
       "      <td>54467415</td>\n",
       "      <td>2226242.13</td>\n",
       "    </tr>\n",
       "    <tr>\n",
       "      <th>2449</th>\n",
       "      <td>3100 GENOA RED BLUFF RD</td>\n",
       "      <td>53059362</td>\n",
       "      <td>1891089.78</td>\n",
       "    </tr>\n",
       "    <tr>\n",
       "      <th>1676</th>\n",
       "      <td>18401 JOHN F KENNEDY BLVD</td>\n",
       "      <td>39907440</td>\n",
       "      <td>1720608.61</td>\n",
       "    </tr>\n",
       "    <tr>\n",
       "      <th>3201</th>\n",
       "      <td>4501 BEECHNUT #C</td>\n",
       "      <td>35489503</td>\n",
       "      <td>1574459.10</td>\n",
       "    </tr>\n",
       "    <tr>\n",
       "      <th>858</th>\n",
       "      <td>12550 WATER WORKS WAY</td>\n",
       "      <td>36923689</td>\n",
       "      <td>1312911.46</td>\n",
       "    </tr>\n",
       "    <tr>\n",
       "      <th>794</th>\n",
       "      <td>12321 1/2 ALMEDA</td>\n",
       "      <td>26040411</td>\n",
       "      <td>1166166.64</td>\n",
       "    </tr>\n",
       "    <tr>\n",
       "      <th>2402</th>\n",
       "      <td>3005 GALVESTON</td>\n",
       "      <td>28060510</td>\n",
       "      <td>994189.92</td>\n",
       "    </tr>\n",
       "  </tbody>\n",
       "</table>\n",
       "</div>"
      ],
      "text/plain": [
       "                Service Address  kWh Usage  Total Due ($)\n",
       "5610                    VARIOUS   79449482    23332024.48\n",
       "2153            2500 FEDERAL RD  121636497     4358286.05\n",
       "2152               2500 69TH ST  113451767     4053100.70\n",
       "4773               7800 AIRPORT   54467415     2226242.13\n",
       "2449    3100 GENOA RED BLUFF RD   53059362     1891089.78\n",
       "1676  18401 JOHN F KENNEDY BLVD   39907440     1720608.61\n",
       "3201           4501 BEECHNUT #C   35489503     1574459.10\n",
       "858       12550 WATER WORKS WAY   36923689     1312911.46\n",
       "794            12321 1/2 ALMEDA   26040411     1166166.64\n",
       "2402             3005 GALVESTON   28060510      994189.92"
      ]
     },
     "execution_count": 16,
     "metadata": {},
     "output_type": "execute_result"
    }
   ],
   "source": [
    "kWh_groupby_site.sort_values(by=['Total Due ($)'],ascending=False).head(10)"
   ]
  },
  {
   "cell_type": "markdown",
   "metadata": {},
   "source": [
    "### 3.2 Outliers"
   ]
  },
  {
   "cell_type": "markdown",
   "metadata": {},
   "source": [
    "#### Condition 1: 1 outlier"
   ]
  },
  {
   "cell_type": "code",
   "execution_count": 17,
   "metadata": {},
   "outputs": [
    {
     "data": {
      "image/png": "[encoded data removed]",
      "text/plain": [
       "<Figure size 432x288 with 1 Axes>"
      ]
     },
     "metadata": {
      "needs_background": "light"
     },
     "output_type": "display_data"
    }
   ],
   "source": [
    "fig, ax = plt.subplots()\n",
    "ax.plot(kWh_groupby_site['kWh Usage']/1000000, kWh_groupby_site['Total Due ($)']/1000000, '.')\n",
    "ax.set_xlabel('kWh Usage (Million)')\n",
    "ax.set_ylabel('Total Due ($ Million)')\n",
    "ax.set_title('Total Due vs kWh Usage')\n",
    "ax.set_ylim(0, 25)\n",
    "ax.set_xlim(0, 140)\n",
    "ax.spines['right'].set_visible(False)\n",
    "ax.spines['top'].set_visible(False)\n",
    "plt.show()"
   ]
  },
  {
   "cell_type": "markdown",
   "metadata": {},
   "source": [
    "Obviously, there is one outlier where total due is way higher than others. It is the site VARIOUS has that high total due."
   ]
  },
  {
   "cell_type": "code",
   "execution_count": 18,
   "metadata": {},
   "outputs": [
    {
     "data": {
      "text/html": [
       "<div>\n",
       "<style scoped>\n",
       "    .dataframe tbody tr th:only-of-type {\n",
       "        vertical-align: middle;\n",
       "    }\n",
       "\n",
       "    .dataframe tbody tr th {\n",
       "        vertical-align: top;\n",
       "    }\n",
       "\n",
       "    .dataframe thead th {\n",
       "        text-align: right;\n",
       "    }\n",
       "</style>\n",
       "<table border=\"1\" class=\"dataframe\">\n",
       "  <thead>\n",
       "    <tr style=\"text-align: right;\">\n",
       "      <th></th>\n",
       "      <th>Service Address</th>\n",
       "      <th>kWh Usage</th>\n",
       "      <th>Total Due ($)</th>\n",
       "    </tr>\n",
       "  </thead>\n",
       "  <tbody>\n",
       "    <tr>\n",
       "      <th>5610</th>\n",
       "      <td>VARIOUS</td>\n",
       "      <td>79449482</td>\n",
       "      <td>23332024.48</td>\n",
       "    </tr>\n",
       "  </tbody>\n",
       "</table>\n",
       "</div>"
      ],
      "text/plain": [
       "     Service Address  kWh Usage  Total Due ($)\n",
       "5610         VARIOUS   79449482    23332024.48"
      ]
     },
     "execution_count": 18,
     "metadata": {},
     "output_type": "execute_result"
    }
   ],
   "source": [
    "kWh_groupby_site[kWh_groupby_site['Total Due ($)']>2e+7]"
   ]
  },
  {
   "cell_type": "markdown",
   "metadata": {},
   "source": [
    "Remove 1 outlier:"
   ]
  },
  {
   "cell_type": "code",
   "execution_count": 19,
   "metadata": {},
   "outputs": [
    {
     "data": {
      "image/png": "[encoded data removed]",
      "text/plain": [
       "<Figure size 432x288 with 1 Axes>"
      ]
     },
     "metadata": {
      "needs_background": "light"
     },
     "output_type": "display_data"
    }
   ],
   "source": [
    "train1 = kWh_groupby_site[kWh_groupby_site['Total Due ($)']<2e+7]\n",
    "fig, ax = plt.subplots()\n",
    "ax.plot(train1['kWh Usage']/1000000, train1['Total Due ($)']/1000000, '.')\n",
    "ax.set_xlabel('kWh Usage (Million)')\n",
    "ax.set_ylabel('Total Due ($ Million)')\n",
    "ax.set_title('Total Due vs kWh Usage\\nRemove 1 Outlier')\n",
    "ax.set_ylim(0, 5)\n",
    "ax.set_xlim(0, 140)\n",
    "ax.spines['right'].set_visible(False)\n",
    "ax.spines['top'].set_visible(False)\n",
    "plt.show()"
   ]
  },
  {
   "cell_type": "markdown",
   "metadata": {},
   "source": [
    "#### Condition 2: 3 outliers"
   ]
  },
  {
   "cell_type": "markdown",
   "metadata": {},
   "source": [
    "We can also find that there are another two points of which kWh usage is much higher than others. The other two sites are 2500 69TH ST and  2500 FEDERAL RD respectively."
   ]
  },
  {
   "cell_type": "code",
   "execution_count": 20,
   "metadata": {},
   "outputs": [
    {
     "data": {
      "text/html": [
       "<div>\n",
       "<style scoped>\n",
       "    .dataframe tbody tr th:only-of-type {\n",
       "        vertical-align: middle;\n",
       "    }\n",
       "\n",
       "    .dataframe tbody tr th {\n",
       "        vertical-align: top;\n",
       "    }\n",
       "\n",
       "    .dataframe thead th {\n",
       "        text-align: right;\n",
       "    }\n",
       "</style>\n",
       "<table border=\"1\" class=\"dataframe\">\n",
       "  <thead>\n",
       "    <tr style=\"text-align: right;\">\n",
       "      <th></th>\n",
       "      <th>Service Address</th>\n",
       "      <th>kWh Usage</th>\n",
       "      <th>Total Due ($)</th>\n",
       "    </tr>\n",
       "  </thead>\n",
       "  <tbody>\n",
       "    <tr>\n",
       "      <th>2152</th>\n",
       "      <td>2500 69TH ST</td>\n",
       "      <td>113451767</td>\n",
       "      <td>4053100.70</td>\n",
       "    </tr>\n",
       "    <tr>\n",
       "      <th>2153</th>\n",
       "      <td>2500 FEDERAL RD</td>\n",
       "      <td>121636497</td>\n",
       "      <td>4358286.05</td>\n",
       "    </tr>\n",
       "    <tr>\n",
       "      <th>5610</th>\n",
       "      <td>VARIOUS</td>\n",
       "      <td>79449482</td>\n",
       "      <td>23332024.48</td>\n",
       "    </tr>\n",
       "  </tbody>\n",
       "</table>\n",
       "</div>"
      ],
      "text/plain": [
       "      Service Address  kWh Usage  Total Due ($)\n",
       "2152     2500 69TH ST  113451767     4053100.70\n",
       "2153  2500 FEDERAL RD  121636497     4358286.05\n",
       "5610          VARIOUS   79449482    23332024.48"
      ]
     },
     "execution_count": 20,
     "metadata": {},
     "output_type": "execute_result"
    }
   ],
   "source": [
    "kWh_groupby_site[kWh_groupby_site['kWh Usage']>6e+7]"
   ]
  },
  {
   "cell_type": "markdown",
   "metadata": {},
   "source": [
    "Remove 3 outliers:"
   ]
  },
  {
   "cell_type": "code",
   "execution_count": 21,
   "metadata": {},
   "outputs": [
    {
     "data": {
      "image/png": "[encoded data removed]",
      "text/plain": [
       "<Figure size 432x288 with 1 Axes>"
      ]
     },
     "metadata": {
      "needs_background": "light"
     },
     "output_type": "display_data"
    }
   ],
   "source": [
    "train2 = kWh_groupby_site[kWh_groupby_site['kWh Usage']<6e+7]\n",
    "fig, ax = plt.subplots()\n",
    "ax.plot(train2['kWh Usage']/1000000, train2['Total Due ($)']/1000000, '.')\n",
    "ax.set_xlabel('kWh Usage (Million)')\n",
    "ax.set_ylabel('Total Due ($ Million)')\n",
    "ax.set_title('Total Due vs kWh Usage\\nRemove 3 Outliers')\n",
    "ax.set_ylim(0, 2.5)\n",
    "ax.set_xlim(0, 60)\n",
    "ax.spines['right'].set_visible(False)\n",
    "ax.spines['top'].set_visible(False)\n",
    "plt.show()"
   ]
  },
  {
   "cell_type": "code",
   "execution_count": 22,
   "metadata": {},
   "outputs": [],
   "source": [
    "#bills[bills['Service Address']=='2500 FEDERAL RD'][['Service Address', 'Bill Date', 'kWh Usage', 'Total Due ($)']]"
   ]
  },
  {
   "cell_type": "code",
   "execution_count": 23,
   "metadata": {},
   "outputs": [],
   "source": [
    "#bills[bills['Service Address']=='2500 69TH ST'][['Service Address', 'Bill Date', 'kWh Usage', 'Total Due ($)']]"
   ]
  },
  {
   "cell_type": "markdown",
   "metadata": {},
   "source": [
    "### 3.3 Average due of kWh"
   ]
  },
  {
   "cell_type": "markdown",
   "metadata": {},
   "source": [
    "#### Condition 1: remove 1 outlier"
   ]
  },
  {
   "cell_type": "code",
   "execution_count": 24,
   "metadata": {},
   "outputs": [],
   "source": [
    "from sklearn.linear_model import LinearRegression"
   ]
  },
  {
   "cell_type": "markdown",
   "metadata": {},
   "source": [
    "If we consider there is only 1 outlier, we can calculate the average due of kWh like this:"
   ]
  },
  {
   "cell_type": "code",
   "execution_count": 25,
   "metadata": {},
   "outputs": [
    {
     "data": {
      "text/plain": [
       "array([0.03779089])"
      ]
     },
     "execution_count": 25,
     "metadata": {},
     "output_type": "execute_result"
    }
   ],
   "source": [
    "linear_regressor1 = LinearRegression()  # create object for the class\n",
    "linear_regressor1.fit(train1[['kWh Usage']], train1['Total Due ($)'])\n",
    "linear_regressor1.coef_"
   ]
  },
  {
   "cell_type": "code",
   "execution_count": 26,
   "metadata": {},
   "outputs": [
    {
     "name": "stdout",
     "output_type": "stream",
     "text": [
      "The avarage due of kWh is: $0.0378.\n"
     ]
    }
   ],
   "source": [
    "print('The avarage due of kWh is: $%.4f.'%linear_regressor1.coef_[0])"
   ]
  },
  {
   "cell_type": "code",
   "execution_count": 27,
   "metadata": {},
   "outputs": [
    {
     "data": {
      "image/png": "[encoded data removed]",
      "text/plain": [
       "<Figure size 432x288 with 1 Axes>"
      ]
     },
     "metadata": {
      "needs_background": "light"
     },
     "output_type": "display_data"
    }
   ],
   "source": [
    "fig, ax = plt.subplots()\n",
    "plt.plot(train1['kWh Usage']/1000000, train1['Total Due ($)']/1000000, '.')\n",
    "plt.plot(train1['kWh Usage']/1000000, linear_regressor1.predict(train1[['kWh Usage']])/1000000, color='red')\n",
    "plt.xlabel('kWh Usage (Million)')\n",
    "plt.ylabel('Total Due ($ Million)')\n",
    "ax.set_title('Actual/Predict Total Due vs kWh Usage\\nRemove 1 Outlier')\n",
    "ax.set_ylim(0, 5)\n",
    "ax.set_xlim(0, 140)\n",
    "ax.spines['right'].set_visible(False)\n",
    "ax.spines['top'].set_visible(False)\n",
    "plt.show()"
   ]
  },
  {
   "cell_type": "markdown",
   "metadata": {},
   "source": [
    "If we consider there are 3 outliers, we can calculate the average due of kWh in this way:"
   ]
  },
  {
   "cell_type": "markdown",
   "metadata": {},
   "source": [
    "#### Condition 2: remove 3 outliers"
   ]
  },
  {
   "cell_type": "code",
   "execution_count": 28,
   "metadata": {},
   "outputs": [
    {
     "data": {
      "text/plain": [
       "array([0.04104018])"
      ]
     },
     "execution_count": 28,
     "metadata": {},
     "output_type": "execute_result"
    }
   ],
   "source": [
    "linear_regressor2 = LinearRegression()  # create object for the class\n",
    "linear_regressor2.fit(train2[['kWh Usage']], train2['Total Due ($)'])\n",
    "linear_regressor2.coef_"
   ]
  },
  {
   "cell_type": "code",
   "execution_count": 29,
   "metadata": {},
   "outputs": [
    {
     "name": "stdout",
     "output_type": "stream",
     "text": [
      "The avarage due of kWh is: $0.0410.\n"
     ]
    }
   ],
   "source": [
    "print('The avarage due of kWh is: $%.4f.'%linear_regressor2.coef_[0])"
   ]
  },
  {
   "cell_type": "code",
   "execution_count": 30,
   "metadata": {},
   "outputs": [
    {
     "data": {
      "image/png": "[encoded data removed]",
      "text/plain": [
       "<Figure size 432x288 with 1 Axes>"
      ]
     },
     "metadata": {
      "needs_background": "light"
     },
     "output_type": "display_data"
    }
   ],
   "source": [
    "fig, ax = plt.subplots()\n",
    "ax.plot(train2['kWh Usage']/1000000, train2['Total Due ($)']/1000000, '.')\n",
    "ax.plot(train2['kWh Usage']/1000000, linear_regressor2.predict(train2[['kWh Usage']])/1000000, color='red')\n",
    "ax.set_xlabel('kWh Usage (Million)')\n",
    "ax.set_ylabel('Total Due ($ Million)')\n",
    "ax.set_title('Actual/Predict Total Due vs kWh Usage\\nRemove 3 Outliers')\n",
    "ax.set_ylim(0, 2.5)\n",
    "ax.set_xlim(0, 60)\n",
    "ax.spines['right'].set_visible(False)\n",
    "ax.spines['top'].set_visible(False)\n",
    "plt.show()"
   ]
  },
  {
   "cell_type": "markdown",
   "metadata": {},
   "source": [
    "#### Compare two results"
   ]
  },
  {
   "cell_type": "markdown",
   "metadata": {},
   "source": [
    "Here we see a difference between the two models. When excluding the two super high usage points, the average price is higher than including them. This makes sense when considering the 'spend more save more' marketing promotion."
   ]
  },
  {
   "cell_type": "markdown",
   "metadata": {},
   "source": [
    "### 3.4 kWh usage and cost by month"
   ]
  },
  {
   "cell_type": "markdown",
   "metadata": {},
   "source": [
    "Extract month data:"
   ]
  },
  {
   "cell_type": "code",
   "execution_count": 31,
   "metadata": {},
   "outputs": [
    {
     "data": {
      "text/plain": [
       "0    2016-07\n",
       "1    2016-08\n",
       "2    2016-09\n",
       "3    2016-10\n",
       "4    2016-11\n",
       "Name: Year-Month, dtype: object"
      ]
     },
     "execution_count": 31,
     "metadata": {},
     "output_type": "execute_result"
    }
   ],
   "source": [
    "bills['Month'] = bills['Bill Date'].apply(lambda x: x.month)\n",
    "bills['Year-Month'] = bills['Bill Date'].apply(lambda x: str(x.year)+'-'+str('%02d' % x.month))\n",
    "bills['Year-Month'].head()                                        "
   ]
  },
  {
   "cell_type": "code",
   "execution_count": 32,
   "metadata": {},
   "outputs": [
    {
     "data": {
      "text/html": [
       "<div>\n",
       "<style scoped>\n",
       "    .dataframe tbody tr th:only-of-type {\n",
       "        vertical-align: middle;\n",
       "    }\n",
       "\n",
       "    .dataframe tbody tr th {\n",
       "        vertical-align: top;\n",
       "    }\n",
       "\n",
       "    .dataframe thead th {\n",
       "        text-align: right;\n",
       "    }\n",
       "</style>\n",
       "<table border=\"1\" class=\"dataframe\">\n",
       "  <thead>\n",
       "    <tr style=\"text-align: right;\">\n",
       "      <th></th>\n",
       "      <th>Year-Month</th>\n",
       "      <th>kWh Usage</th>\n",
       "      <th>Total Due ($)</th>\n",
       "    </tr>\n",
       "  </thead>\n",
       "  <tbody>\n",
       "    <tr>\n",
       "      <th>0</th>\n",
       "      <td>2016-07</td>\n",
       "      <td>95213824</td>\n",
       "      <td>6.137627e+06</td>\n",
       "    </tr>\n",
       "    <tr>\n",
       "      <th>1</th>\n",
       "      <td>2016-08</td>\n",
       "      <td>111111542</td>\n",
       "      <td>8.165075e+06</td>\n",
       "    </tr>\n",
       "    <tr>\n",
       "      <th>2</th>\n",
       "      <td>2016-09</td>\n",
       "      <td>116646947</td>\n",
       "      <td>9.614795e+06</td>\n",
       "    </tr>\n",
       "    <tr>\n",
       "      <th>3</th>\n",
       "      <td>2016-10</td>\n",
       "      <td>101993590</td>\n",
       "      <td>7.276628e+06</td>\n",
       "    </tr>\n",
       "    <tr>\n",
       "      <th>4</th>\n",
       "      <td>2016-11</td>\n",
       "      <td>94680872</td>\n",
       "      <td>6.196408e+06</td>\n",
       "    </tr>\n",
       "    <tr>\n",
       "      <th>5</th>\n",
       "      <td>2016-12</td>\n",
       "      <td>96060401</td>\n",
       "      <td>5.604977e+06</td>\n",
       "    </tr>\n",
       "    <tr>\n",
       "      <th>6</th>\n",
       "      <td>2017-01</td>\n",
       "      <td>100200329</td>\n",
       "      <td>6.936902e+06</td>\n",
       "    </tr>\n",
       "    <tr>\n",
       "      <th>7</th>\n",
       "      <td>2017-02</td>\n",
       "      <td>91595513</td>\n",
       "      <td>6.580829e+06</td>\n",
       "    </tr>\n",
       "    <tr>\n",
       "      <th>8</th>\n",
       "      <td>2017-03</td>\n",
       "      <td>98176374</td>\n",
       "      <td>8.687157e+06</td>\n",
       "    </tr>\n",
       "    <tr>\n",
       "      <th>9</th>\n",
       "      <td>2017-04</td>\n",
       "      <td>94970366</td>\n",
       "      <td>6.744696e+06</td>\n",
       "    </tr>\n",
       "    <tr>\n",
       "      <th>10</th>\n",
       "      <td>2017-05</td>\n",
       "      <td>147750484</td>\n",
       "      <td>5.531466e+06</td>\n",
       "    </tr>\n",
       "    <tr>\n",
       "      <th>11</th>\n",
       "      <td>2017-06</td>\n",
       "      <td>259104603</td>\n",
       "      <td>7.813381e+06</td>\n",
       "    </tr>\n",
       "  </tbody>\n",
       "</table>\n",
       "</div>"
      ],
      "text/plain": [
       "   Year-Month  kWh Usage  Total Due ($)\n",
       "0     2016-07   95213824   6.137627e+06\n",
       "1     2016-08  111111542   8.165075e+06\n",
       "2     2016-09  116646947   9.614795e+06\n",
       "3     2016-10  101993590   7.276628e+06\n",
       "4     2016-11   94680872   6.196408e+06\n",
       "5     2016-12   96060401   5.604977e+06\n",
       "6     2017-01  100200329   6.936902e+06\n",
       "7     2017-02   91595513   6.580829e+06\n",
       "8     2017-03   98176374   8.687157e+06\n",
       "9     2017-04   94970366   6.744696e+06\n",
       "10    2017-05  147750484   5.531466e+06\n",
       "11    2017-06  259104603   7.813381e+06"
      ]
     },
     "execution_count": 32,
     "metadata": {},
     "output_type": "execute_result"
    }
   ],
   "source": [
    "kWh_groupby_month = bills[['Year-Month', 'kWh Usage', 'Total Due ($)']].groupby(['Year-Month'], as_index=False).sum()\n",
    "kWh_groupby_month"
   ]
  },
  {
   "cell_type": "markdown",
   "metadata": {},
   "source": [
    "#### Month data bar chart & insights:"
   ]
  },
  {
   "cell_type": "code",
   "execution_count": 33,
   "metadata": {},
   "outputs": [
    {
     "data": {
      "image/png": "[encoded data removed]",
      "text/plain": [
       "<Figure size 576x360 with 1 Axes>"
      ]
     },
     "metadata": {
      "needs_background": "light"
     },
     "output_type": "display_data"
    }
   ],
   "source": [
    "x = kWh_groupby_month['Year-Month']\n",
    "y = kWh_groupby_month['kWh Usage']/1000000\n",
    "fig, ax = plt.subplots(figsize=(8, 5))\n",
    "ax.bar(x, y)\n",
    "ax.set_xlabel('Year-Month')\n",
    "ax.set_title('kWh Usage (Million)')\n",
    "ax.xaxis.set_tick_params(rotation=45)\n",
    "#ax.tick_params(top='off', bottom='off', left='off', right='off', labelleft='off', labelbottom='on')\n",
    "ax.spines['right'].set_visible(False)\n",
    "ax.spines['left'].set_visible(False)\n",
    "ax.spines['top'].set_visible(False)\n",
    "ax.spines['bottom'].set_visible(False)\n",
    "ax.get_yaxis().set_ticks([])\n",
    "ax.set_ylim(0, 280)\n",
    "\n",
    "rects = ax.patches\n",
    "for rect in rects:\n",
    "    height = rect.get_height()\n",
    "    ax.text(rect.get_x() + rect.get_width()*0.5, 1.01*height,\n",
    "            '%d'%(height), ha='center', va='bottom')\n",
    "\n",
    "plt.show()"
   ]
  },
  {
   "cell_type": "markdown",
   "metadata": {},
   "source": [
    "In June 2017, the usage goes up incredibly, more than double of each month from July 2017 to April 2017. The rising tendency shows form May 2017."
   ]
  },
  {
   "cell_type": "code",
   "execution_count": 34,
   "metadata": {},
   "outputs": [
    {
     "data": {
      "image/png": "[encoded data removed]",
      "text/plain": [
       "<Figure size 576x360 with 1 Axes>"
      ]
     },
     "metadata": {
      "needs_background": "light"
     },
     "output_type": "display_data"
    }
   ],
   "source": [
    "x = kWh_groupby_month['Year-Month']\n",
    "y = kWh_groupby_month['Total Due ($)']/1000000\n",
    "fig, ax = plt.subplots(figsize=(8, 5))\n",
    "ax.bar(x, y)\n",
    "ax.set_xlabel('Year-Month')\n",
    "ax.set_title('Total Due (Million $)')\n",
    "ax.xaxis.set_tick_params(rotation=45)\n",
    "ax.spines['right'].set_visible(False)\n",
    "ax.spines['left'].set_visible(False)\n",
    "ax.spines['top'].set_visible(False)\n",
    "ax.spines['bottom'].set_visible(False)\n",
    "ax.get_yaxis().set_ticks([])\n",
    "ax.set_ylim(0, 11)\n",
    "\n",
    "rects = ax.patches\n",
    "for rect in rects:\n",
    "    height = rect.get_height()\n",
    "    ax.text(rect.get_x() + rect.get_width()*0.5, 1.01*height,\n",
    "            '%.2f'%(height), ha='center', va='bottom')\n",
    "\n",
    "plt.show()"
   ]
  },
  {
   "cell_type": "markdown",
   "metadata": {},
   "source": [
    "The total due flutuates every month. It is relatively higher in September 2016 and March 2017.\n",
    "However, considering the high usage in June 2017, the total due in that month doesn't show a high value."
   ]
  },
  {
   "cell_type": "code",
   "execution_count": 35,
   "metadata": {},
   "outputs": [
    {
     "data": {
      "image/png": "[encoded data removed]",
      "text/plain": [
       "<Figure size 576x360 with 1 Axes>"
      ]
     },
     "metadata": {
      "needs_background": "light"
     },
     "output_type": "display_data"
    }
   ],
   "source": [
    "x = kWh_groupby_month['Year-Month']\n",
    "y = kWh_groupby_month['Total Due ($)']/kWh_groupby_month['kWh Usage']\n",
    "fig, ax = plt.subplots(figsize=(8, 5))\n",
    "ax.bar(x, y)\n",
    "ax.set_xlabel('Year-Month')\n",
    "ax.set_title('Due per kWh ($)')\n",
    "ax.xaxis.set_tick_params(rotation=45)\n",
    "ax.spines['right'].set_visible(False)\n",
    "ax.spines['left'].set_visible(False)\n",
    "ax.spines['top'].set_visible(False)\n",
    "ax.spines['bottom'].set_visible(False)\n",
    "ax.get_yaxis().set_ticks([])\n",
    "ax.set_ylim(0, 0.1)\n",
    "\n",
    "rects = ax.patches\n",
    "for rect in rects:\n",
    "    height = rect.get_height()\n",
    "    ax.text(rect.get_x() + rect.get_width()*0.5, 1.01*height, '%.3f'%(height), ha='center', va='bottom')\n",
    "    \n",
    "plt.show()"
   ]
  },
  {
   "cell_type": "markdown",
   "metadata": {},
   "source": [
    "In September 2016 and March 2017, the average price is higher than in other months. \n",
    "\n",
    "And the average price is way much lower from May 2017. The average price tuned down explains the rising from May 2017."
   ]
  },
  {
   "cell_type": "markdown",
   "metadata": {},
   "source": []
  }
 ],
 "metadata": {
  "kernelspec": {
   "display_name": "Python 3",
   "language": "python",
   "name": "python3"
  },
  "language_info": {
   "codemirror_mode": {
    "name": "ipython",
    "version": 3
   },
   "file_extension": ".py",
   "mimetype": "text/x-python",
   "name": "python",
   "nbconvert_exporter": "python",
   "pygments_lexer": "ipython3",
   "version": "3.7.3"
  }
 },
 "nbformat": 4,
 "nbformat_minor": 4
}
